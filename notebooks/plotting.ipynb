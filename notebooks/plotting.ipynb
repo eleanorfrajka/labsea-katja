{
 "cells": [
  {
   "cell_type": "markdown",
   "id": "10f702c6",
   "metadata": {},
   "source": [
    "# Notebook for plotting"
   ]
  },
  {
   "cell_type": "code",
   "execution_count": null,
   "id": "17cfe820",
   "metadata": {
    "vscode": {
     "languageId": "plaintext"
    }
   },
   "outputs": [],
   "source": []
  }
 ],
 "metadata": {
  "language_info": {
   "name": "python"
  }
 },
 "nbformat": 4,
 "nbformat_minor": 5
}
